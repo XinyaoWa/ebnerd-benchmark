{
 "cells": [
  {
   "cell_type": "markdown",
   "id": "8bad6608-14d2-4fba-b14e-388fb689894d",
   "metadata": {},
   "source": [
    "## Prepare data"
   ]
  },
  {
   "cell_type": "code",
   "execution_count": 1,
   "id": "8ed6619b-9a49-4e94-aecd-6e5061094fd2",
   "metadata": {},
   "outputs": [],
   "source": [
    "import pandas as pd\n",
    "import numpy as np\n",
    "import os"
   ]
  },
  {
   "cell_type": "code",
   "execution_count": 5,
   "id": "13f49168-016a-4235-be7e-1089ed8e4e38",
   "metadata": {},
   "outputs": [],
   "source": [
    "data_path = \"data/process_data\"\n",
    "valid_sessions = pd.read_csv(os.path.join(data_path, \"valid_sessions_new.csv\"))\n",
    "valid_purchases = pd.read_csv(os.path.join(data_path, \"valid_purchases_new.csv\"))\n",
    "valid_sessions['date'] = pd.to_datetime(valid_sessions[\"date\"])\n",
    "valid_wf = pd.read_parquet(\"data/test.parquet\")[[\"session_id\",\"wf\"]]\n",
    "item_features = pd.read_csv(os.path.join(data_path, \"item_features.csv\"))"
   ]
  },
  {
   "cell_type": "code",
   "execution_count": null,
   "id": "4c32accd-44cc-4a7f-a5f8-81e194ee5b8c",
   "metadata": {},
   "outputs": [],
   "source": [
    "%%time\n",
    "def convert_to_sparse_table(pdf, row_idx = 0, col_idx = 1, val_idx = 2):\n",
    "    assert(isinstance(pdf, pd.DataFrame))\n",
    "    assert(pdf.shape[1] == 3)\n",
    "    keys = pdf.keys().tolist()\n",
    "    num_rows = pdf[keys[row_idx]].max() + 1\n",
    "    num_cols = pdf[keys[col_idx]].max() + 1\n",
    "    sparse_table = [[0] * num_cols for i in range(num_rows)]\n",
    "    for _, row in pdf.iterrows():\n",
    "        sparse_table[row[keys[row_idx]]][row[keys[col_idx]]] = row[keys[val_idx]]\n",
    "    res = np.array(sparse_table)\n",
    "    return res\n",
    "features_table = convert_to_sparse_table(item_features)\n",
    "features_table_pd = pd.DataFrame(features_table)\n",
    "features_table_pd.columns = [f\"f_{i}\" for i in range(74)]\n",
    "features_table_pd[\"item_id\"] = features_table_pd.index\n",
    "features_table_pd = features_table_pd.drop(columns=[\"f_0\"])\n",
    "features_table_pd = features_table_pd[1:]\n",
    "features_table_pd.to_parquet(os.path.join(data_path, \"item_features_table.parquet\"))"
   ]
  },
  {
   "cell_type": "code",
   "execution_count": 3,
   "id": "10955082-7e37-4c95-b622-591800ea3f6d",
   "metadata": {},
   "outputs": [],
   "source": [
    "features_table_pd = pd.read_parquet(os.path.join(data_path, \"tmp/item_features_table.parquet\"))"
   ]
  },
  {
   "cell_type": "code",
   "execution_count": 4,
   "id": "d4a1c972-dfa8-40e9-8e89-403861119f1b",
   "metadata": {},
   "outputs": [
    {
     "name": "stdout",
     "output_type": "stream",
     "text": [
      "CPU times: user 629 ms, sys: 291 ms, total: 920 ms\n",
      "Wall time: 921 ms\n"
     ]
    }
   ],
   "source": [
    "valid_sessions_feat = valid_sessions.merge(features_table_pd, on=\"item_id\")\n",
    "valid_sessions_feat.sort_values([\"session_id\", \"date\"], inplace=True)\n",
    "valid_sessions_feat = valid_sessions_feat.drop(columns=[\"date\"])\n",
    "\n",
    "valid_purchases_feat = valid_purchases.merge(features_table_pd, on=\"item_id\")\n",
    "valid_purchases_feat.sort_values([\"session_id\"], inplace=True)\n",
    "valid_purchases_feat = valid_purchases_feat.drop(columns=[\"date\"])"
   ]
  },
  {
   "cell_type": "code",
   "execution_count": 5,
   "id": "acf6bd9f-4516-4bdc-9cf2-97981251aa91",
   "metadata": {},
   "outputs": [
    {
     "name": "stdout",
     "output_type": "stream",
     "text": [
      "CPU times: user 1min 54s, sys: 1.07 s, total: 1min 55s\n",
      "Wall time: 1min 55s\n"
     ]
    }
   ],
   "source": [
    "%%time\n",
    "valid_sessions_feat_list = valid_sessions_feat.groupby(\"session_id\", as_index = False).agg({'item_id':lambda x: list(x), 'f_1': lambda x: list(x), 'f_2': lambda x: list(x), 'f_3': lambda x: list(x), 'f_4': lambda x: list(x), 'f_5': lambda x: list(x), 'f_6': lambda x: list(x), 'f_7': lambda x: list(x), 'f_8': lambda x: list(x), 'f_9': lambda x: list(x), 'f_10': lambda x: list(x), 'f_11': lambda x: list(x), 'f_12': lambda x: list(x), 'f_13': lambda x: list(x), 'f_14': lambda x: list(x), 'f_15': lambda x: list(x), 'f_16': lambda x: list(x), 'f_17': lambda x: list(x), 'f_18': lambda x: list(x), 'f_19': lambda x: list(x), 'f_20': lambda x: list(x), 'f_21': lambda x: list(x), 'f_22': lambda x: list(x), 'f_23': lambda x: list(x), 'f_24': lambda x: list(x), 'f_25': lambda x: list(x), 'f_26': lambda x: list(x), 'f_27': lambda x: list(x), 'f_28': lambda x: list(x), 'f_29': lambda x: list(x), 'f_30': lambda x: list(x), 'f_31': lambda x: list(x), 'f_32': lambda x: list(x), 'f_33': lambda x: list(x), 'f_34': lambda x: list(x), 'f_35': lambda x: list(x), 'f_36': lambda x: list(x), 'f_37': lambda x: list(x), 'f_38': lambda x: list(x), 'f_39': lambda x: list(x), 'f_40': lambda x: list(x), 'f_41': lambda x: list(x), 'f_42': lambda x: list(x), 'f_43': lambda x: list(x), 'f_44': lambda x: list(x), 'f_45': lambda x: list(x), 'f_46': lambda x: list(x), 'f_47': lambda x: list(x), 'f_48': lambda x: list(x), 'f_49': lambda x: list(x), 'f_50': lambda x: list(x), 'f_51': lambda x: list(x), 'f_52': lambda x: list(x), 'f_53': lambda x: list(x), 'f_54': lambda x: list(x), 'f_55': lambda x: list(x), 'f_56': lambda x: list(x), 'f_57': lambda x: list(x), 'f_58': lambda x: list(x), 'f_59': lambda x: list(x), 'f_60': lambda x: list(x), 'f_61': lambda x: list(x), 'f_62': lambda x: list(x), 'f_63': lambda x: list(x), 'f_64': lambda x: list(x), 'f_65': lambda x: list(x), 'f_66': lambda x: list(x), 'f_67': lambda x: list(x), 'f_68': lambda x: list(x), 'f_69': lambda x: list(x), 'f_70': lambda x: list(x), 'f_71': lambda x: list(x), 'f_72': lambda x: list(x), 'f_73': lambda x: list(x)})\n",
    "valid_sessions_feat_list.to_parquet(os.path.join(data_path, \"tmp/valid_sessions_feat_list.parquet\"))"
   ]
  },
  {
   "cell_type": "code",
   "execution_count": 6,
   "id": "dd09f945-fdb0-4ac6-97a5-7cb1220805d4",
   "metadata": {},
   "outputs": [],
   "source": [
    "valid_sessions_feat_list = pd.read_parquet(os.path.join(data_path, \"tmp/valid_sessions_feat_list.parquet\"))"
   ]
  },
  {
   "cell_type": "code",
   "execution_count": 8,
   "id": "c327a218-a598-4b5f-9342-61b10d0f0263",
   "metadata": {},
   "outputs": [],
   "source": [
    "valid_purchases_feat.columns = [\"session_id\", \"item_id_y\"] + [f\"f_{i}_y\" for i in range(1,74)]\n",
    "valid_sessions_feat_list=valid_sessions_feat_list.merge(valid_purchases_feat,on=\"session_id\", how=\"left\")"
   ]
  },
  {
   "cell_type": "code",
   "execution_count": 13,
   "id": "ba3019f5-f56f-4ecc-84d9-e5019bd25c77",
   "metadata": {},
   "outputs": [],
   "source": [
    "def merge_y(a, b):\n",
    "    a = list(a)\n",
    "    a.append(b)\n",
    "    return a\n",
    "valid_sessions_feat_list[\"item_id-list\"] = valid_sessions_feat_list.apply(lambda x: merge_y(x[\"item_id\"], x[\"item_id_y\"]), axis=1)"
   ]
  },
  {
   "cell_type": "code",
   "execution_count": 16,
   "id": "a77d0707-e63a-40e1-b1ac-3b87f3046290",
   "metadata": {},
   "outputs": [
    {
     "name": "stdout",
     "output_type": "stream",
     "text": [
      "CPU times: user 2min 24s, sys: 14.9 s, total: 2min 39s\n",
      "Wall time: 2min 40s\n"
     ]
    }
   ],
   "source": [
    "%%time\n",
    "for i in range(1,74):\n",
    "    valid_sessions_feat_list[f\"f_{i}-list\"] = valid_sessions_feat_list.apply(lambda x: merge_y(x[f\"f_{i}\"], x[f\"f_{i}_y\"]), axis=1)"
   ]
  },
  {
   "cell_type": "code",
   "execution_count": 18,
   "id": "00c30f9f-1b2a-4d3b-8ad0-ffeb3ee0eacb",
   "metadata": {},
   "outputs": [],
   "source": [
    "valid_sessions_feat_list = valid_sessions_feat_list[[\"session_id\", \"item_id-list\"] + [f\"f_{i}-list\" for i in range(1,74)]]"
   ]
  },
  {
   "cell_type": "code",
   "execution_count": 25,
   "id": "5d346802-5604-4c41-98ae-1150063d4def",
   "metadata": {},
   "outputs": [],
   "source": [
    "valid_sessions_feat_list = valid_sessions_feat_list.merge(valid_wf, on=\"session_id\", how=\"left\")"
   ]
  },
  {
   "cell_type": "code",
   "execution_count": 27,
   "id": "393a6e6f-f8fb-4655-a012-53d1f022f893",
   "metadata": {},
   "outputs": [],
   "source": [
    "valid_sessions_feat_list.to_parquet(\"data_trans/valid.parquet\")"
   ]
  }
 ],
 "metadata": {
  "kernelspec": {
   "display_name": "Python 3 (ipykernel)",
   "language": "python",
   "name": "python3"
  },
  "language_info": {
   "codemirror_mode": {
    "name": "ipython",
    "version": 3
   },
   "file_extension": ".py",
   "mimetype": "text/x-python",
   "name": "python",
   "nbconvert_exporter": "python",
   "pygments_lexer": "ipython3",
   "version": "3.9.15"
  }
 },
 "nbformat": 4,
 "nbformat_minor": 5
}
