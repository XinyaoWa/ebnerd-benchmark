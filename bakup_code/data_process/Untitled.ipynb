{
 "cells": [
  {
   "cell_type": "code",
   "execution_count": 1,
   "id": "0bf25fa6-a554-477e-a187-bd903ee5922c",
   "metadata": {},
   "outputs": [],
   "source": [
    "import pandas as pd\n",
    "import numpy as np\n",
    "import os"
   ]
  },
  {
   "cell_type": "code",
   "execution_count": 2,
   "id": "e7aefeb6-1ec0-4b51-aa15-39d0658ce4da",
   "metadata": {},
   "outputs": [],
   "source": [
    "data_path = \"/home/vmagent/app/transformer4rec_recsys2022/data/data_feat/\""
   ]
  },
  {
   "cell_type": "code",
   "execution_count": 3,
   "id": "84874dbf-1682-4231-b2bc-20cdfc82f0ad",
   "metadata": {},
   "outputs": [],
   "source": [
    "train = pd.read_parquet(os.path.join(data_path,\"train.parquet\"))"
   ]
  },
  {
   "cell_type": "code",
   "execution_count": 4,
   "id": "6dc62f8e-9c2d-45da-8e40-9d710d37ce73",
   "metadata": {},
   "outputs": [
    {
     "data": {
      "text/plain": [
       "(918379, 76)"
      ]
     },
     "execution_count": 4,
     "metadata": {},
     "output_type": "execute_result"
    }
   ],
   "source": [
    "train.shape"
   ]
  },
  {
   "cell_type": "code",
   "execution_count": 3,
   "id": "e48172c3-afaa-4dbb-a785-39888c88b5a1",
   "metadata": {},
   "outputs": [],
   "source": [
    "train = pd.read_parquet(os.path.join(data_path,\"train.parquet\"))\n",
    "valid = pd.read_parquet(os.path.join(data_path,\"valid.parquet\"))"
   ]
  },
  {
   "cell_type": "code",
   "execution_count": 5,
   "id": "a5ef81bb-b989-4bfb-bb37-2f257d1811cd",
   "metadata": {},
   "outputs": [],
   "source": [
    "valid[:100].to_parquet(os.path.join(data_path,\"valid_100.parquet\"))\n"
   ]
  },
  {
   "cell_type": "code",
   "execution_count": 6,
   "id": "1fb9842d-1b4d-44a3-bb16-58991b6871c4",
   "metadata": {},
   "outputs": [],
   "source": [
    "train[:1000].to_parquet(os.path.join(data_path,\"train_1000.parquet\"))"
   ]
  }
 ],
 "metadata": {
  "kernelspec": {
   "display_name": "Python 3 (ipykernel)",
   "language": "python",
   "name": "python3"
  },
  "language_info": {
   "codemirror_mode": {
    "name": "ipython",
    "version": 3
   },
   "file_extension": ".py",
   "mimetype": "text/x-python",
   "name": "python",
   "nbconvert_exporter": "python",
   "pygments_lexer": "ipython3",
   "version": "3.9.15"
  }
 },
 "nbformat": 4,
 "nbformat_minor": 5
}
