{
 "cells": [
  {
   "cell_type": "markdown",
   "id": "8bad6608-14d2-4fba-b14e-388fb689894d",
   "metadata": {},
   "source": [
    "## Prepare data"
   ]
  },
  {
   "cell_type": "code",
   "execution_count": 2,
   "id": "8ed6619b-9a49-4e94-aecd-6e5061094fd2",
   "metadata": {},
   "outputs": [],
   "source": [
    "import pandas as pd\n",
    "import numpy as np\n",
    "import os"
   ]
  },
  {
   "cell_type": "code",
   "execution_count": 3,
   "id": "13f49168-016a-4235-be7e-1089ed8e4e38",
   "metadata": {},
   "outputs": [],
   "source": [
    "data_path = \"data/process_data\"\n",
    "valid_sessions = pd.read_csv(os.path.join(data_path, \"train_sessions_new.csv\"))\n",
    "valid_purchases = pd.read_csv(os.path.join(data_path, \"train_purchases_new.csv\"))\n",
    "valid_sessions['date'] = pd.to_datetime(valid_sessions[\"date\"])\n",
    "valid_wf = pd.read_parquet(\"data/train.parquet\")[[\"session_id\",\"wf\"]]"
   ]
  },
  {
   "cell_type": "code",
   "execution_count": 4,
   "id": "10955082-7e37-4c95-b622-591800ea3f6d",
   "metadata": {},
   "outputs": [],
   "source": [
    "features_table_pd = pd.read_parquet(os.path.join(data_path, \"tmp/item_features_table.parquet\"))"
   ]
  },
  {
   "cell_type": "code",
   "execution_count": 7,
   "id": "30b9d673-668c-4d33-9412-142aa4adcf66",
   "metadata": {},
   "outputs": [],
   "source": [
    "valid_sessions = pd.concat([valid_sessions,valid_purchases])"
   ]
  },
  {
   "cell_type": "code",
   "execution_count": 10,
   "id": "241a7912-3e05-405a-9f59-a15802a90421",
   "metadata": {},
   "outputs": [
    {
     "name": "stderr",
     "output_type": "stream",
     "text": [
      "/tmp/ipykernel_132096/547418216.py:2: FutureWarning: Inferring datetime64[ns] from data containing strings is deprecated and will be removed in a future version. To retain the old behavior explicitly pass Series(data, dtype=datetime64[ns])\n",
      "  valid_sessions_feat.sort_values([\"session_id\", \"date\"], inplace=True)\n"
     ]
    }
   ],
   "source": [
    "valid_sessions_feat = valid_sessions.merge(features_table_pd, on=\"item_id\")\n",
    "valid_sessions_feat.sort_values([\"session_id\", \"date\"], inplace=True)\n",
    "valid_sessions_feat = valid_sessions_feat.drop(columns=[\"date\"])"
   ]
  },
  {
   "cell_type": "code",
   "execution_count": 13,
   "id": "acf6bd9f-4516-4bdc-9cf2-97981251aa91",
   "metadata": {},
   "outputs": [
    {
     "name": "stdout",
     "output_type": "stream",
     "text": [
      "CPU times: user 20min 6s, sys: 17.3 s, total: 20min 23s\n",
      "Wall time: 20min 26s\n"
     ]
    }
   ],
   "source": [
    "%%time\n",
    "valid_sessions_feat_list = valid_sessions_feat.groupby(\"session_id\", as_index = False).agg({'item_id':lambda x: list(x), 'f_1': lambda x: list(x), 'f_2': lambda x: list(x), 'f_3': lambda x: list(x), 'f_4': lambda x: list(x), 'f_5': lambda x: list(x), 'f_6': lambda x: list(x), 'f_7': lambda x: list(x), 'f_8': lambda x: list(x), 'f_9': lambda x: list(x), 'f_10': lambda x: list(x), 'f_11': lambda x: list(x), 'f_12': lambda x: list(x), 'f_13': lambda x: list(x), 'f_14': lambda x: list(x), 'f_15': lambda x: list(x), 'f_16': lambda x: list(x), 'f_17': lambda x: list(x), 'f_18': lambda x: list(x), 'f_19': lambda x: list(x), 'f_20': lambda x: list(x), 'f_21': lambda x: list(x), 'f_22': lambda x: list(x), 'f_23': lambda x: list(x), 'f_24': lambda x: list(x), 'f_25': lambda x: list(x), 'f_26': lambda x: list(x), 'f_27': lambda x: list(x), 'f_28': lambda x: list(x), 'f_29': lambda x: list(x), 'f_30': lambda x: list(x), 'f_31': lambda x: list(x), 'f_32': lambda x: list(x), 'f_33': lambda x: list(x), 'f_34': lambda x: list(x), 'f_35': lambda x: list(x), 'f_36': lambda x: list(x), 'f_37': lambda x: list(x), 'f_38': lambda x: list(x), 'f_39': lambda x: list(x), 'f_40': lambda x: list(x), 'f_41': lambda x: list(x), 'f_42': lambda x: list(x), 'f_43': lambda x: list(x), 'f_44': lambda x: list(x), 'f_45': lambda x: list(x), 'f_46': lambda x: list(x), 'f_47': lambda x: list(x), 'f_48': lambda x: list(x), 'f_49': lambda x: list(x), 'f_50': lambda x: list(x), 'f_51': lambda x: list(x), 'f_52': lambda x: list(x), 'f_53': lambda x: list(x), 'f_54': lambda x: list(x), 'f_55': lambda x: list(x), 'f_56': lambda x: list(x), 'f_57': lambda x: list(x), 'f_58': lambda x: list(x), 'f_59': lambda x: list(x), 'f_60': lambda x: list(x), 'f_61': lambda x: list(x), 'f_62': lambda x: list(x), 'f_63': lambda x: list(x), 'f_64': lambda x: list(x), 'f_65': lambda x: list(x), 'f_66': lambda x: list(x), 'f_67': lambda x: list(x), 'f_68': lambda x: list(x), 'f_69': lambda x: list(x), 'f_70': lambda x: list(x), 'f_71': lambda x: list(x), 'f_72': lambda x: list(x), 'f_73': lambda x: list(x)})"
   ]
  },
  {
   "cell_type": "code",
   "execution_count": 15,
   "id": "a67785c1-9676-4027-b30d-12b89be0191b",
   "metadata": {},
   "outputs": [],
   "source": [
    "valid_sessions_feat_list = valid_sessions_feat_list.merge(valid_wf, on=\"session_id\", how=\"left\")"
   ]
  },
  {
   "cell_type": "code",
   "execution_count": 18,
   "id": "00c30f9f-1b2a-4d3b-8ad0-ffeb3ee0eacb",
   "metadata": {},
   "outputs": [],
   "source": [
    "valid_sessions_feat_list.columns = ['session_id', 'item_id-list'] + [f\"f_{i}-list\" for i in range(1,74)] + [\"wf\"]"
   ]
  },
  {
   "cell_type": "code",
   "execution_count": null,
   "id": "c17348e1-579b-411b-914b-458119b700d2",
   "metadata": {},
   "outputs": [],
   "source": [
    "valid_sessions_feat_list = valid_sessions_feat_list.drop((valid_sessions_feat_list[valid_sessions_feat_list[\"session_id\"]==2132889]).index).reset_index(drop=True)\n",
    "valid_sessions_feat_list = valid_sessions_feat_list.drop((valid_sessions_feat_list[valid_sessions_feat_list[\"session_id\"]==3805637]).index).reset_index(drop=True)\n",
    "valid_sessions_feat_list = valid_sessions_feat_list.drop((valid_sessions_feat_list[valid_sessions_feat_list[\"session_id\"]==3823880]).index).reset_index(drop=True)"
   ]
  },
  {
   "cell_type": "code",
   "execution_count": 20,
   "id": "393a6e6f-f8fb-4655-a012-53d1f022f893",
   "metadata": {},
   "outputs": [],
   "source": [
    "valid_sessions_feat_list.to_parquet(\"data/data_feat/train.parquet\")"
   ]
  }
 ],
 "metadata": {
  "kernelspec": {
   "display_name": "Python 3 (ipykernel)",
   "language": "python",
   "name": "python3"
  },
  "language_info": {
   "codemirror_mode": {
    "name": "ipython",
    "version": 3
   },
   "file_extension": ".py",
   "mimetype": "text/x-python",
   "name": "python",
   "nbconvert_exporter": "python",
   "pygments_lexer": "ipython3",
   "version": "3.9.15"
  }
 },
 "nbformat": 4,
 "nbformat_minor": 5
}
